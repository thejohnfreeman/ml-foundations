{
 "cells": [
  {
   "cell_type": "code",
   "execution_count": 1,
   "metadata": {
    "collapsed": true
   },
   "outputs": [],
   "source": [
    "import graphlab as gl"
   ]
  },
  {
   "cell_type": "markdown",
   "metadata": {},
   "source": [
    "# Question 1"
   ]
  },
  {
   "cell_type": "code",
   "execution_count": 2,
   "metadata": {
    "collapsed": true
   },
   "outputs": [],
   "source": [
    "sentence = 'the wheels on the bus go round and round'"
   ]
  },
  {
   "cell_type": "code",
   "execution_count": 3,
   "metadata": {
    "collapsed": true
   },
   "outputs": [],
   "source": [
    "vocab = ['the', 'on', 'and', 'go', 'round', 'bus', 'wheels']"
   ]
  },
  {
   "cell_type": "code",
   "execution_count": 4,
   "metadata": {
    "collapsed": false
   },
   "outputs": [
    {
     "name": "stdout",
     "output_type": "stream",
     "text": [
      "This non-commercial license of GraphLab Create is assigned to jfreeman08@gmail.com and will expire on May 14, 2017. For commercial licensing options, visit https://dato.com/buy/.\n"
     ]
    },
    {
     "name": "stderr",
     "output_type": "stream",
     "text": [
      "2016-05-17 16:19:03,210 [INFO] graphlab.cython.cy_server, 176: GraphLab Create v1.9 started. Logging: /tmp/graphlab_server_1463519941.log\n"
     ]
    }
   ],
   "source": [
    "import collections\n",
    "wc1 = collections.Counter(sentence.split())\n",
    "doc1 = gl.SArray([wc1[word] for word in vocab])"
   ]
  },
  {
   "cell_type": "code",
   "execution_count": 5,
   "metadata": {
    "collapsed": false
   },
   "outputs": [
    {
     "data": {
      "text/plain": [
       "'2111211'"
      ]
     },
     "execution_count": 5,
     "metadata": {},
     "output_type": "execute_result"
    }
   ],
   "source": [
    "''.join(map(str, doc1))"
   ]
  },
  {
   "cell_type": "markdown",
   "metadata": {},
   "source": [
    "# Question 2"
   ]
  },
  {
   "cell_type": "code",
   "execution_count": 27,
   "metadata": {
    "collapsed": false
   },
   "outputs": [],
   "source": [
    "# paste strings from quiz to make it easy to verify no discrepancy exists\n",
    "def pp2tf(pp):\n",
    "    return {term: freq\n",
    "            for term, freq in itertools.izip(vocab, map(int, pp.split()))\n",
    "            if freq > 0}\n",
    "\n",
    "corpus = {\n",
    "    'doc2':  pp2tf('1 3 2 1 2 1 1'),\n",
    "    'doc2a': pp2tf('7 0 2 1 0 0 1'),\n",
    "    'doc2b': pp2tf('1 7 0 0 2 0 1'),\n",
    "    'doc2c': pp2tf('1 0 0 0 7 1 2'),\n",
    "    'doc2d': pp2tf('0 2 0 0 7 1 1'),\n",
    "}"
   ]
  },
  {
   "cell_type": "code",
   "execution_count": 45,
   "metadata": {
    "collapsed": false
   },
   "outputs": [
    {
     "data": {
      "text/html": [
       "<div style=\"max-height:1000px;max-width:1500px;overflow:auto;\"><table frame=\"box\" rules=\"cols\">\n",
       "    <tr>\n",
       "        <th style=\"padding-left: 1em; padding-right: 1em; text-align: center\">name</th>\n",
       "        <th style=\"padding-left: 1em; padding-right: 1em; text-align: center\">tf</th>\n",
       "    </tr>\n",
       "    <tr>\n",
       "        <td style=\"padding-left: 1em; padding-right: 1em; text-align: center; vertical-align: top\">doc2</td>\n",
       "        <td style=\"padding-left: 1em; padding-right: 1em; text-align: center; vertical-align: top\">{'and': 2, 'on': 3,<br>'bus': 1, 'round': 2, ...</td>\n",
       "    </tr>\n",
       "    <tr>\n",
       "        <td style=\"padding-left: 1em; padding-right: 1em; text-align: center; vertical-align: top\">doc2a</td>\n",
       "        <td style=\"padding-left: 1em; padding-right: 1em; text-align: center; vertical-align: top\">{'and': 2, 'go': 1,<br>'the': 7, 'wheels': 1} ...</td>\n",
       "    </tr>\n",
       "    <tr>\n",
       "        <td style=\"padding-left: 1em; padding-right: 1em; text-align: center; vertical-align: top\">doc2b</td>\n",
       "        <td style=\"padding-left: 1em; padding-right: 1em; text-align: center; vertical-align: top\">{'on': 7, 'wheels': 1,<br>'the': 1, 'round': 2} ...</td>\n",
       "    </tr>\n",
       "    <tr>\n",
       "        <td style=\"padding-left: 1em; padding-right: 1em; text-align: center; vertical-align: top\">doc2c</td>\n",
       "        <td style=\"padding-left: 1em; padding-right: 1em; text-align: center; vertical-align: top\">{'bus': 1, 'wheels': 2,<br>'the': 1, 'round': 7} ...</td>\n",
       "    </tr>\n",
       "    <tr>\n",
       "        <td style=\"padding-left: 1em; padding-right: 1em; text-align: center; vertical-align: top\">doc2d</td>\n",
       "        <td style=\"padding-left: 1em; padding-right: 1em; text-align: center; vertical-align: top\">{'on': 2, 'wheels': 1,<br>'round': 7, 'bus': 1} ...</td>\n",
       "    </tr>\n",
       "</table>\n",
       "[5 rows x 2 columns]<br/>\n",
       "</div>"
      ],
      "text/plain": [
       "Columns:\n",
       "\tname\tstr\n",
       "\ttf\tdict\n",
       "\n",
       "Rows: 5\n",
       "\n",
       "Data:\n",
       "+-------+-------------------------------+\n",
       "|  name |               tf              |\n",
       "+-------+-------------------------------+\n",
       "|  doc2 | {'and': 2, 'on': 3, 'bus':... |\n",
       "| doc2a | {'and': 2, 'go': 1, 'the':... |\n",
       "| doc2b | {'on': 7, 'wheels': 1, 'th... |\n",
       "| doc2c | {'bus': 1, 'wheels': 2, 't... |\n",
       "| doc2d | {'on': 2, 'wheels': 1, 'ro... |\n",
       "+-------+-------------------------------+\n",
       "[5 rows x 2 columns]"
      ]
     },
     "execution_count": 45,
     "metadata": {},
     "output_type": "execute_result"
    }
   ],
   "source": [
    "import itertools\n",
    "docs = gl.SFrame({'corpus': [corpus]}).stack('corpus', ['name', 'tf']).sort('name')\n",
    "docs"
   ]
  },
  {
   "cell_type": "code",
   "execution_count": 46,
   "metadata": {
    "collapsed": false
   },
   "outputs": [
    {
     "data": {
      "text/html": [
       "<div style=\"max-height:1000px;max-width:1500px;overflow:auto;\"><table frame=\"box\" rules=\"cols\">\n",
       "    <tr>\n",
       "        <th style=\"padding-left: 1em; padding-right: 1em; text-align: center\">name</th>\n",
       "        <th style=\"padding-left: 1em; padding-right: 1em; text-align: center\">tf</th>\n",
       "        <th style=\"padding-left: 1em; padding-right: 1em; text-align: center\">tfidf</th>\n",
       "    </tr>\n",
       "    <tr>\n",
       "        <td style=\"padding-left: 1em; padding-right: 1em; text-align: center; vertical-align: top\">doc2</td>\n",
       "        <td style=\"padding-left: 1em; padding-right: 1em; text-align: center; vertical-align: top\">{'and': 2, 'on': 3,<br>'bus': 1, 'round': 2, ...</td>\n",
       "        <td style=\"padding-left: 1em; padding-right: 1em; text-align: center; vertical-align: top\">{'and':<br>1.8325814637483102, ' ...</td>\n",
       "    </tr>\n",
       "    <tr>\n",
       "        <td style=\"padding-left: 1em; padding-right: 1em; text-align: center; vertical-align: top\">doc2a</td>\n",
       "        <td style=\"padding-left: 1em; padding-right: 1em; text-align: center; vertical-align: top\">{'and': 2, 'go': 1,<br>'the': 7, 'wheels': 1} ...</td>\n",
       "        <td style=\"padding-left: 1em; padding-right: 1em; text-align: center; vertical-align: top\">{'and':<br>1.8325814637483102, ' ...</td>\n",
       "    </tr>\n",
       "    <tr>\n",
       "        <td style=\"padding-left: 1em; padding-right: 1em; text-align: center; vertical-align: top\">doc2b</td>\n",
       "        <td style=\"padding-left: 1em; padding-right: 1em; text-align: center; vertical-align: top\">{'on': 7, 'wheels': 1,<br>'the': 1, 'round': 2} ...</td>\n",
       "        <td style=\"padding-left: 1em; padding-right: 1em; text-align: center; vertical-align: top\">{'on':<br>3.5757793663619353, ...</td>\n",
       "    </tr>\n",
       "    <tr>\n",
       "        <td style=\"padding-left: 1em; padding-right: 1em; text-align: center; vertical-align: top\">doc2c</td>\n",
       "        <td style=\"padding-left: 1em; padding-right: 1em; text-align: center; vertical-align: top\">{'bus': 1, 'wheels': 2,<br>'the': 1, 'round': 7} ...</td>\n",
       "        <td style=\"padding-left: 1em; padding-right: 1em; text-align: center; vertical-align: top\">{'bus':<br>0.5108256237659907, ...</td>\n",
       "    </tr>\n",
       "    <tr>\n",
       "        <td style=\"padding-left: 1em; padding-right: 1em; text-align: center; vertical-align: top\">doc2d</td>\n",
       "        <td style=\"padding-left: 1em; padding-right: 1em; text-align: center; vertical-align: top\">{'on': 2, 'wheels': 1,<br>'round': 7, 'bus': 1} ...</td>\n",
       "        <td style=\"padding-left: 1em; padding-right: 1em; text-align: center; vertical-align: top\">{'on':<br>1.0216512475319814, ...</td>\n",
       "    </tr>\n",
       "</table>\n",
       "[5 rows x 3 columns]<br/>\n",
       "</div>"
      ],
      "text/plain": [
       "Columns:\n",
       "\tname\tstr\n",
       "\ttf\tdict\n",
       "\ttfidf\tdict\n",
       "\n",
       "Rows: 5\n",
       "\n",
       "Data:\n",
       "+-------+-------------------------------+-------------------------------+\n",
       "|  name |               tf              |             tfidf             |\n",
       "+-------+-------------------------------+-------------------------------+\n",
       "|  doc2 | {'and': 2, 'on': 3, 'bus':... | {'and': 1.8325814637483102... |\n",
       "| doc2a | {'and': 2, 'go': 1, 'the':... | {'and': 1.8325814637483102... |\n",
       "| doc2b | {'on': 7, 'wheels': 1, 'th... | {'on': 3.5757793663619353,... |\n",
       "| doc2c | {'bus': 1, 'wheels': 2, 't... | {'bus': 0.5108256237659907... |\n",
       "| doc2d | {'on': 2, 'wheels': 1, 'ro... | {'on': 1.0216512475319814,... |\n",
       "+-------+-------------------------------+-------------------------------+\n",
       "[5 rows x 3 columns]"
      ]
     },
     "execution_count": 46,
     "metadata": {},
     "output_type": "execute_result"
    }
   ],
   "source": [
    "docs['tfidf'] = gl.text_analytics.tf_idf(docs['tf'])\n",
    "docs"
   ]
  },
  {
   "cell_type": "code",
   "execution_count": 49,
   "metadata": {
    "collapsed": false
   },
   "outputs": [
    {
     "data": {
      "text/html": [
       "<div style=\"max-height:1000px;max-width:1500px;overflow:auto;\"><table frame=\"box\" rules=\"cols\">\n",
       "    <tr>\n",
       "        <th style=\"padding-left: 1em; padding-right: 1em; text-align: center\">name</th>\n",
       "        <th style=\"padding-left: 1em; padding-right: 1em; text-align: center\">tf</th>\n",
       "        <th style=\"padding-left: 1em; padding-right: 1em; text-align: center\">tfidf</th>\n",
       "        <th style=\"padding-left: 1em; padding-right: 1em; text-align: center\">distance to doc2</th>\n",
       "    </tr>\n",
       "    <tr>\n",
       "        <td style=\"padding-left: 1em; padding-right: 1em; text-align: center; vertical-align: top\">doc2</td>\n",
       "        <td style=\"padding-left: 1em; padding-right: 1em; text-align: center; vertical-align: top\">{'and': 2, 'on': 3,<br>'bus': 1, 'round': 2, ...</td>\n",
       "        <td style=\"padding-left: 1em; padding-right: 1em; text-align: center; vertical-align: top\">{'and':<br>1.8325814637483102, ' ...</td>\n",
       "        <td style=\"padding-left: 1em; padding-right: 1em; text-align: center; vertical-align: top\">0.0</td>\n",
       "    </tr>\n",
       "    <tr>\n",
       "        <td style=\"padding-left: 1em; padding-right: 1em; text-align: center; vertical-align: top\">doc2a</td>\n",
       "        <td style=\"padding-left: 1em; padding-right: 1em; text-align: center; vertical-align: top\">{'and': 2, 'go': 1,<br>'the': 7, 'wheels': 1} ...</td>\n",
       "        <td style=\"padding-left: 1em; padding-right: 1em; text-align: center; vertical-align: top\">{'and':<br>1.8325814637483102, ' ...</td>\n",
       "        <td style=\"padding-left: 1em; padding-right: 1em; text-align: center; vertical-align: top\">0.335683747353</td>\n",
       "    </tr>\n",
       "    <tr>\n",
       "        <td style=\"padding-left: 1em; padding-right: 1em; text-align: center; vertical-align: top\">doc2b</td>\n",
       "        <td style=\"padding-left: 1em; padding-right: 1em; text-align: center; vertical-align: top\">{'on': 7, 'wheels': 1,<br>'the': 1, 'round': 2} ...</td>\n",
       "        <td style=\"padding-left: 1em; padding-right: 1em; text-align: center; vertical-align: top\">{'on':<br>3.5757793663619353, ...</td>\n",
       "        <td style=\"padding-left: 1em; padding-right: 1em; text-align: center; vertical-align: top\">0.402671730425</td>\n",
       "    </tr>\n",
       "    <tr>\n",
       "        <td style=\"padding-left: 1em; padding-right: 1em; text-align: center; vertical-align: top\">doc2c</td>\n",
       "        <td style=\"padding-left: 1em; padding-right: 1em; text-align: center; vertical-align: top\">{'bus': 1, 'wheels': 2,<br>'the': 1, 'round': 7} ...</td>\n",
       "        <td style=\"padding-left: 1em; padding-right: 1em; text-align: center; vertical-align: top\">{'bus':<br>0.5108256237659907, ...</td>\n",
       "        <td style=\"padding-left: 1em; padding-right: 1em; text-align: center; vertical-align: top\">0.771235855714</td>\n",
       "    </tr>\n",
       "    <tr>\n",
       "        <td style=\"padding-left: 1em; padding-right: 1em; text-align: center; vertical-align: top\">doc2d</td>\n",
       "        <td style=\"padding-left: 1em; padding-right: 1em; text-align: center; vertical-align: top\">{'on': 2, 'wheels': 1,<br>'round': 7, 'bus': 1} ...</td>\n",
       "        <td style=\"padding-left: 1em; padding-right: 1em; text-align: center; vertical-align: top\">{'on':<br>1.0216512475319814, ...</td>\n",
       "        <td style=\"padding-left: 1em; padding-right: 1em; text-align: center; vertical-align: top\">0.50903864296</td>\n",
       "    </tr>\n",
       "</table>\n",
       "[5 rows x 4 columns]<br/>\n",
       "</div>"
      ],
      "text/plain": [
       "Columns:\n",
       "\tname\tstr\n",
       "\ttf\tdict\n",
       "\ttfidf\tdict\n",
       "\tdistance to doc2\tfloat\n",
       "\n",
       "Rows: 5\n",
       "\n",
       "Data:\n",
       "+-------+-------------------------------+-------------------------------+\n",
       "|  name |               tf              |             tfidf             |\n",
       "+-------+-------------------------------+-------------------------------+\n",
       "|  doc2 | {'and': 2, 'on': 3, 'bus':... | {'and': 1.8325814637483102... |\n",
       "| doc2a | {'and': 2, 'go': 1, 'the':... | {'and': 1.8325814637483102... |\n",
       "| doc2b | {'on': 7, 'wheels': 1, 'th... | {'on': 3.5757793663619353,... |\n",
       "| doc2c | {'bus': 1, 'wheels': 2, 't... | {'bus': 0.5108256237659907... |\n",
       "| doc2d | {'on': 2, 'wheels': 1, 'ro... | {'on': 1.0216512475319814,... |\n",
       "+-------+-------------------------------+-------------------------------+\n",
       "+------------------+\n",
       "| distance to doc2 |\n",
       "+------------------+\n",
       "|       0.0        |\n",
       "|  0.335683747353  |\n",
       "|  0.402671730425  |\n",
       "|  0.771235855714  |\n",
       "|  0.50903864296   |\n",
       "+------------------+\n",
       "[5 rows x 4 columns]"
      ]
     },
     "execution_count": 49,
     "metadata": {},
     "output_type": "execute_result"
    }
   ],
   "source": [
    "tfidf2 = docs[docs['name'] == 'doc2']['tfidf'][0]\n",
    "docs['distance to doc2'] = docs['tfidf'].apply(lambda x: gl.distances.cosine(tfidf2, x))\n",
    "docs"
   ]
  },
  {
   "cell_type": "markdown",
   "metadata": {},
   "source": [
    "doc2a has the shortest distance to doc2 (other than doc2 itself)"
   ]
  },
  {
   "cell_type": "markdown",
   "metadata": {},
   "source": [
    "# Question 4"
   ]
  },
  {
   "cell_type": "code",
   "execution_count": 11,
   "metadata": {
    "collapsed": true
   },
   "outputs": [],
   "source": [
    "idf_base10 = (len(corpus) / (df + 1)).apply(math.log10)"
   ]
  },
  {
   "cell_type": "code",
   "execution_count": 12,
   "metadata": {
    "collapsed": false
   },
   "outputs": [
    {
     "data": {
      "text/plain": [
       "(-0.8170594925112872, -0.8170594925112871)"
      ]
     },
     "execution_count": 12,
     "metadata": {},
     "output_type": "execute_result"
    }
   ],
   "source": [
    "idf[-1] / idf[-2], idf_base10[-1] / idf_base10[-2]"
   ]
  }
 ],
 "metadata": {
  "kernelspec": {
   "display_name": "Python 2",
   "language": "python",
   "name": "python2"
  },
  "language_info": {
   "codemirror_mode": {
    "name": "ipython",
    "version": 2
   },
   "file_extension": ".py",
   "mimetype": "text/x-python",
   "name": "python",
   "nbconvert_exporter": "python",
   "pygments_lexer": "ipython2",
   "version": "2.7.11"
  }
 },
 "nbformat": 4,
 "nbformat_minor": 0
}
